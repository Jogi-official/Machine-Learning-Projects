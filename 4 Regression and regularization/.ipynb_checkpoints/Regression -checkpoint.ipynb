{
 "cells": [
  {
   "cell_type": "code",
   "execution_count": 1,
   "id": "5ce542e0",
   "metadata": {},
   "outputs": [],
   "source": [
    "import numpy as np\n",
    "import seaborn as sn\n",
    "import matplotlib.pyplot as plt"
   ]
  },
  {
   "cell_type": "code",
   "execution_count": 2,
   "id": "e72ba1a6",
   "metadata": {},
   "outputs": [],
   "source": [
    "X = 2 * np.random.rand(100 , 1)"
   ]
  },
  {
   "cell_type": "code",
   "execution_count": 3,
   "id": "bf3f7c7f",
   "metadata": {},
   "outputs": [
    {
     "data": {
      "text/plain": [
       "array([[0.40831034],\n",
       "       [1.35266684],\n",
       "       [1.40652619]])"
      ]
     },
     "execution_count": 3,
     "metadata": {},
     "output_type": "execute_result"
    }
   ],
   "source": [
    "X[:3]"
   ]
  },
  {
   "cell_type": "code",
   "execution_count": 4,
   "id": "9f82c019",
   "metadata": {},
   "outputs": [],
   "source": [
    "Y = 4 + 3 * X + np.random.rand(100 , 1) "
   ]
  },
  {
   "cell_type": "code",
   "execution_count": 5,
   "id": "501d1c75",
   "metadata": {},
   "outputs": [
    {
     "data": {
      "text/plain": [
       "array([[6.05517114],\n",
       "       [8.29046837],\n",
       "       [8.81549339]])"
      ]
     },
     "execution_count": 5,
     "metadata": {},
     "output_type": "execute_result"
    }
   ],
   "source": [
    "Y[:3]"
   ]
  },
  {
   "cell_type": "code",
   "execution_count": 6,
   "id": "d5ffb24a",
   "metadata": {},
   "outputs": [
    {
     "data": {
      "text/plain": [
       "<AxesSubplot:>"
      ]
     },
     "execution_count": 6,
     "metadata": {},
     "output_type": "execute_result"
    },
    {
     "data": {
      "image/png": "[encoded data removed]",
      "text/plain": [
       "<Figure size 432x288 with 1 Axes>"
      ]
     },
     "metadata": {
      "needs_background": "light"
     },
     "output_type": "display_data"
    }
   ],
   "source": [
    "sn.scatterplot(x = X[: , 0], y =  Y[: , 0])"
   ]
  },
  {
   "cell_type": "code",
   "execution_count": 7,
   "id": "e68303d9",
   "metadata": {},
   "outputs": [],
   "source": [
    "X_b = np.c_[np.ones((100 , 1)) , X]"
   ]
  },
  {
   "cell_type": "code",
   "execution_count": 8,
   "id": "8c51ca25",
   "metadata": {},
   "outputs": [
    {
     "data": {
      "text/plain": [
       "array([[1.        , 0.40831034],\n",
       "       [1.        , 1.35266684],\n",
       "       [1.        , 1.40652619]])"
      ]
     },
     "execution_count": 8,
     "metadata": {},
     "output_type": "execute_result"
    }
   ],
   "source": [
    "X_b[:3]"
   ]
  },
  {
   "cell_type": "code",
   "execution_count": 9,
   "id": "e1db8bb6",
   "metadata": {},
   "outputs": [
    {
     "data": {
      "text/plain": [
       "array([[0.40831034],\n",
       "       [1.35266684],\n",
       "       [1.40652619]])"
      ]
     },
     "execution_count": 9,
     "metadata": {},
     "output_type": "execute_result"
    }
   ],
   "source": [
    "X[:3]"
   ]
  },
  {
   "cell_type": "code",
   "execution_count": 10,
   "id": "bd21e0ac",
   "metadata": {},
   "outputs": [],
   "source": [
    "theta_best = np.linalg.inv(X_b.T.dot(X_b)).dot(X_b.T).dot(Y)"
   ]
  },
  {
   "cell_type": "code",
   "execution_count": 11,
   "id": "9b74e611",
   "metadata": {},
   "outputs": [
    {
     "data": {
      "text/plain": [
       "array([[4.47686678],\n",
       "       [3.02568832]])"
      ]
     },
     "execution_count": 11,
     "metadata": {},
     "output_type": "execute_result"
    }
   ],
   "source": [
    "theta_best"
   ]
  },
  {
   "cell_type": "code",
   "execution_count": 12,
   "id": "8112cc9c",
   "metadata": {},
   "outputs": [
    {
     "data": {
      "text/plain": [
       "array([[0],\n",
       "       [2]])"
      ]
     },
     "execution_count": 12,
     "metadata": {},
     "output_type": "execute_result"
    }
   ],
   "source": [
    "X_new = np.array([[0] , [2]])\n",
    "X_new"
   ]
  },
  {
   "cell_type": "code",
   "execution_count": 13,
   "id": "c7909912",
   "metadata": {},
   "outputs": [
    {
     "data": {
      "text/plain": [
       "array([[1., 0.],\n",
       "       [1., 2.]])"
      ]
     },
     "execution_count": 13,
     "metadata": {},
     "output_type": "execute_result"
    }
   ],
   "source": [
    "X_new_b = np.c_[(np.ones((2 , 1))) , X_new]\n",
    "X_new_b"
   ]
  },
  {
   "cell_type": "code",
   "execution_count": 14,
   "id": "75598381",
   "metadata": {},
   "outputs": [],
   "source": [
    "Y_predict = X_new_b.dot(theta_best)"
   ]
  },
  {
   "cell_type": "code",
   "execution_count": 15,
   "id": "bb7d41ea",
   "metadata": {},
   "outputs": [
    {
     "data": {
      "text/plain": [
       "array([[ 4.47686678],\n",
       "       [10.52824341]])"
      ]
     },
     "execution_count": 15,
     "metadata": {},
     "output_type": "execute_result"
    }
   ],
   "source": [
    "Y_predict"
   ]
  },
  {
   "cell_type": "code",
   "execution_count": 16,
   "id": "ca2c0924",
   "metadata": {},
   "outputs": [
    {
     "data": {
      "image/png": "[encoded data removed]",
      "text/plain": [
       "<Figure size 432x288 with 1 Axes>"
      ]
     },
     "metadata": {
      "needs_background": "light"
     },
     "output_type": "display_data"
    }
   ],
   "source": [
    "plt.plot(X_new , Y_predict, \"r-\")\n",
    "plt.plot(X , Y , \"b.\")\n",
    "plt.axis([0 , 2 , 0 ,  15])\n",
    "plt.show()"
   ]
  },
  {
   "cell_type": "markdown",
   "id": "af4736b2",
   "metadata": {},
   "source": [
    "# Using Scikit Learn Pakage"
   ]
  },
  {
   "cell_type": "code",
   "execution_count": 17,
   "id": "288944f2",
   "metadata": {},
   "outputs": [],
   "source": [
    "from sklearn.linear_model import LinearRegression"
   ]
  },
  {
   "cell_type": "code",
   "execution_count": 18,
   "id": "6351aed4",
   "metadata": {},
   "outputs": [],
   "source": [
    "lin_reg = LinearRegression()"
   ]
  },
  {
   "cell_type": "code",
   "execution_count": 19,
   "id": "cdaf1c6c",
   "metadata": {},
   "outputs": [
    {
     "data": {
      "text/plain": [
       "LinearRegression()"
      ]
     },
     "execution_count": 19,
     "metadata": {},
     "output_type": "execute_result"
    }
   ],
   "source": [
    "lin_reg.fit(X , Y)"
   ]
  },
  {
   "cell_type": "code",
   "execution_count": 20,
   "id": "df66b490",
   "metadata": {},
   "outputs": [
    {
     "data": {
      "text/plain": [
       "(array([4.47686678]), array([[3.02568832]]))"
      ]
     },
     "execution_count": 20,
     "metadata": {},
     "output_type": "execute_result"
    }
   ],
   "source": [
    "lin_reg.intercept_ , lin_reg.coef_"
   ]
  },
  {
   "cell_type": "code",
   "execution_count": 21,
   "id": "bae3f850",
   "metadata": {},
   "outputs": [
    {
     "data": {
      "text/plain": [
       "array([[ 4.47686678],\n",
       "       [10.52824341]])"
      ]
     },
     "execution_count": 21,
     "metadata": {},
     "output_type": "execute_result"
    }
   ],
   "source": [
    "lin_reg.predict(X_new)"
   ]
  },
  {
   "cell_type": "code",
   "execution_count": 22,
   "id": "2b84d74c",
   "metadata": {},
   "outputs": [],
   "source": [
    "theta_best_svd , residual , rank , s = np.linalg.lstsq(X_b , Y , rcond=1e-6)"
   ]
  },
  {
   "cell_type": "code",
   "execution_count": 23,
   "id": "a741694d",
   "metadata": {},
   "outputs": [
    {
     "data": {
      "text/plain": [
       "array([[4.47686678],\n",
       "       [3.02568832]])"
      ]
     },
     "execution_count": 23,
     "metadata": {},
     "output_type": "execute_result"
    }
   ],
   "source": [
    "theta_best_svd"
   ]
  },
  {
   "cell_type": "code",
   "execution_count": 24,
   "id": "060a2bf9",
   "metadata": {},
   "outputs": [
    {
     "data": {
      "text/plain": [
       "array([9.33471727])"
      ]
     },
     "execution_count": 24,
     "metadata": {},
     "output_type": "execute_result"
    }
   ],
   "source": [
    "residual"
   ]
  },
  {
   "cell_type": "code",
   "execution_count": 25,
   "id": "543d9a61",
   "metadata": {},
   "outputs": [
    {
     "data": {
      "text/plain": [
       "2"
      ]
     },
     "execution_count": 25,
     "metadata": {},
     "output_type": "execute_result"
    }
   ],
   "source": [
    "rank"
   ]
  },
  {
   "cell_type": "code",
   "execution_count": 26,
   "id": "35089cbb",
   "metadata": {},
   "outputs": [
    {
     "data": {
      "text/plain": [
       "array([15.10870357,  4.11645944])"
      ]
     },
     "execution_count": 26,
     "metadata": {},
     "output_type": "execute_result"
    }
   ],
   "source": [
    "s"
   ]
  },
  {
   "cell_type": "markdown",
   "id": "7af8e4e1",
   "metadata": {},
   "source": [
    "# Batch Gradient Descent "
   ]
  },
  {
   "cell_type": "code",
   "execution_count": 27,
   "id": "739b3838",
   "metadata": {},
   "outputs": [],
   "source": [
    "eta  = 0.01\n",
    "n_iterations = 1000\n",
    "m = 100 #no of parameters"
   ]
  },
  {
   "cell_type": "code",
   "execution_count": 28,
   "id": "1d90b150",
   "metadata": {},
   "outputs": [
    {
     "data": {
      "text/plain": [
       "array([[0.18585643],\n",
       "       [0.90247393]])"
      ]
     },
     "execution_count": 28,
     "metadata": {},
     "output_type": "execute_result"
    }
   ],
   "source": [
    "theta = np.random.randn(2 , 1)\n",
    "theta"
   ]
  },
  {
   "cell_type": "code",
   "execution_count": 29,
   "id": "5d2d6abc",
   "metadata": {},
   "outputs": [
    {
     "data": {
      "text/plain": [
       "array([[1.        , 0.40831034],\n",
       "       [1.        , 1.35266684],\n",
       "       [1.        , 1.40652619],\n",
       "       [1.        , 0.3620172 ]])"
      ]
     },
     "execution_count": 29,
     "metadata": {},
     "output_type": "execute_result"
    }
   ],
   "source": [
    "X_b[:4]"
   ]
  },
  {
   "cell_type": "code",
   "execution_count": 30,
   "id": "0491a49a",
   "metadata": {},
   "outputs": [
    {
     "data": {
      "text/plain": [
       "array([[6.05517114],\n",
       "       [8.29046837],\n",
       "       [8.81549339],\n",
       "       [5.86572333],\n",
       "       [9.45048277]])"
      ]
     },
     "execution_count": 30,
     "metadata": {},
     "output_type": "execute_result"
    }
   ],
   "source": [
    "Y[:5]"
   ]
  },
  {
   "cell_type": "code",
   "execution_count": 31,
   "id": "fb0ffce4",
   "metadata": {},
   "outputs": [],
   "source": [
    "for iteration in range(n_iterations):\n",
    "    gradients = 2/m* X_b.T.dot(X_b.dot(theta) - Y)\n",
    "    theta = theta - eta * gradients"
   ]
  },
  {
   "cell_type": "code",
   "execution_count": 32,
   "id": "f81f889a",
   "metadata": {},
   "outputs": [
    {
     "data": {
      "text/plain": [
       "array([[4.42427953],\n",
       "       [3.0680034 ]])"
      ]
     },
     "execution_count": 32,
     "metadata": {},
     "output_type": "execute_result"
    }
   ],
   "source": [
    "theta"
   ]
  },
  {
   "cell_type": "markdown",
   "id": "dca5b02d",
   "metadata": {},
   "source": [
    "# Stochastic Gradient Descent "
   ]
  },
  {
   "cell_type": "code",
   "execution_count": 33,
   "id": "f126ec1c",
   "metadata": {},
   "outputs": [],
   "source": [
    "n_epochs = 50\n",
    "t0 , t1 = 5 , 50"
   ]
  },
  {
   "cell_type": "code",
   "execution_count": 34,
   "id": "b0f61695",
   "metadata": {},
   "outputs": [],
   "source": [
    "def learning_schedule(t):\n",
    "    return t0/(t+t1)"
   ]
  },
  {
   "cell_type": "code",
   "execution_count": 35,
   "id": "d2e10e8a",
   "metadata": {},
   "outputs": [
    {
     "data": {
      "text/plain": [
       "array([[1.35314241],\n",
       "       [1.82904878]])"
      ]
     },
     "execution_count": 35,
     "metadata": {},
     "output_type": "execute_result"
    }
   ],
   "source": [
    "theta = np.random.randn(2 , 1)\n",
    "theta"
   ]
  },
  {
   "cell_type": "code",
   "execution_count": 36,
   "id": "35d3b31d",
   "metadata": {},
   "outputs": [],
   "source": [
    "for epoch in range(n_epochs):\n",
    "    for i in range(m):\n",
    "        random_index = np.random.randint(m)\n",
    "        xi = X_b[random_index : random_index+1]\n",
    "        yi = Y[random_index : random_index+1]\n",
    "        gradient = 2*xi.T.dot(xi.dot(theta)-yi)\n",
    "        eta = learning_schedule(epoch*m+i)\n",
    "        theta = theta - eta*gradient"
   ]
  },
  {
   "cell_type": "code",
   "execution_count": 37,
   "id": "4c4de4ae",
   "metadata": {},
   "outputs": [
    {
     "data": {
      "text/plain": [
       "array([[4.46908402],\n",
       "       [3.04204151]])"
      ]
     },
     "execution_count": 37,
     "metadata": {},
     "output_type": "execute_result"
    }
   ],
   "source": [
    "theta"
   ]
  },
  {
   "cell_type": "code",
   "execution_count": 38,
   "id": "69284b9a",
   "metadata": {},
   "outputs": [],
   "source": [
    "from sklearn.linear_model import SGDRegressor\n",
    "sgd_reg = SGDRegressor(max_iter = 1000 , tol = 1e-3 , penalty = None  , eta0 = 0.1)"
   ]
  },
  {
   "cell_type": "code",
   "execution_count": 39,
   "id": "34e63034",
   "metadata": {},
   "outputs": [
    {
     "data": {
      "text/plain": [
       "SGDRegressor(eta0=0.1, penalty=None)"
      ]
     },
     "execution_count": 39,
     "metadata": {},
     "output_type": "execute_result"
    }
   ],
   "source": [
    "sgd_reg.fit(X  , Y.ravel())"
   ]
  },
  {
   "cell_type": "code",
   "execution_count": 40,
   "id": "830abec6",
   "metadata": {},
   "outputs": [
    {
     "data": {
      "text/plain": [
       "(array([4.45970731]), array([3.04354254]))"
      ]
     },
     "execution_count": 40,
     "metadata": {},
     "output_type": "execute_result"
    }
   ],
   "source": [
    "sgd_reg.intercept_ , sgd_reg.coef_"
   ]
  },
  {
   "cell_type": "markdown",
   "id": "b6ca0a7e",
   "metadata": {},
   "source": [
    "# Polynomial Regression "
   ]
  },
  {
   "cell_type": "code",
   "execution_count": 41,
   "id": "62ae2ad2",
   "metadata": {},
   "outputs": [],
   "source": [
    "m = 100\n",
    "X = 6*np.random.rand(m , 1)-3\n",
    "y = 0.5*X**2 + X + 2 + np.random.rand(m ,1 )"
   ]
  },
  {
   "cell_type": "code",
   "execution_count": 42,
   "id": "65717009",
   "metadata": {},
   "outputs": [
    {
     "data": {
      "text/plain": [
       "<matplotlib.collections.PathCollection at 0x189b3776100>"
      ]
     },
     "execution_count": 42,
     "metadata": {},
     "output_type": "execute_result"
    },
    {
     "data": {
      "image/png": "[encoded data removed]",
      "text/plain": [
       "<Figure size 432x288 with 1 Axes>"
      ]
     },
     "metadata": {
      "needs_background": "light"
     },
     "output_type": "display_data"
    }
   ],
   "source": [
    "plt.scatter(X  , y , c = 'violet')"
   ]
  },
  {
   "cell_type": "code",
   "execution_count": 43,
   "id": "87cd484c",
   "metadata": {},
   "outputs": [],
   "source": [
    "from sklearn.preprocessing import PolynomialFeatures"
   ]
  },
  {
   "cell_type": "code",
   "execution_count": 44,
   "id": "5facef4c",
   "metadata": {},
   "outputs": [],
   "source": [
    "poly_features = PolynomialFeatures(degree = 2 , include_bias= False)\n",
    "X_poly = poly_features.fit_transform(X)"
   ]
  },
  {
   "cell_type": "code",
   "execution_count": 45,
   "id": "76794673",
   "metadata": {},
   "outputs": [
    {
     "data": {
      "text/plain": [
       "array([1.41845789])"
      ]
     },
     "execution_count": 45,
     "metadata": {},
     "output_type": "execute_result"
    }
   ],
   "source": [
    "X[0]"
   ]
  },
  {
   "cell_type": "code",
   "execution_count": 46,
   "id": "398062a9",
   "metadata": {},
   "outputs": [
    {
     "data": {
      "text/plain": [
       "array([1.41845789, 2.01202278])"
      ]
     },
     "execution_count": 46,
     "metadata": {},
     "output_type": "execute_result"
    }
   ],
   "source": [
    "X_poly[0]"
   ]
  },
  {
   "cell_type": "code",
   "execution_count": 47,
   "id": "030de58e",
   "metadata": {},
   "outputs": [
    {
     "data": {
      "text/plain": [
       "LinearRegression()"
      ]
     },
     "execution_count": 47,
     "metadata": {},
     "output_type": "execute_result"
    }
   ],
   "source": [
    "lin_reg = LinearRegression()\n",
    "lin_reg.fit(X_poly , y)"
   ]
  },
  {
   "cell_type": "code",
   "execution_count": 48,
   "id": "48443f05",
   "metadata": {},
   "outputs": [
    {
     "data": {
      "text/plain": [
       "(array([2.56526496]), array([[1.01748654, 0.4891129 ]]))"
      ]
     },
     "execution_count": 48,
     "metadata": {},
     "output_type": "execute_result"
    }
   ],
   "source": [
    "lin_reg.intercept_ , lin_reg.coef_"
   ]
  },
  {
   "cell_type": "code",
   "execution_count": 49,
   "id": "7d348142",
   "metadata": {},
   "outputs": [],
   "source": [
    "Y_predict_poly = lin_reg.predict(X_poly)"
   ]
  },
  {
   "cell_type": "markdown",
   "id": "1b49ebef",
   "metadata": {},
   "source": [
    "# Checking Overfitting or UnderFitting Using Learning Curves"
   ]
  },
  {
   "cell_type": "code",
   "execution_count": 50,
   "id": "39812e0c",
   "metadata": {},
   "outputs": [],
   "source": [
    "from sklearn.metrics import mean_squared_error\n",
    "from sklearn.model_selection import train_test_split"
   ]
  },
  {
   "cell_type": "code",
   "execution_count": 51,
   "id": "d906cad9",
   "metadata": {},
   "outputs": [],
   "source": [
    "def plot_learning_curves(model , X , y ):\n",
    "    X_train , X_val , Y_train , Y_val = train_test_split(X , y , test_size= 0.2)\n",
    "    train_error , val_error = [] , []\n",
    "    \n",
    "    for m in range(1, len(X_train)):\n",
    "        model.fit(X_train[:m] , Y_train[:m])\n",
    "        y_train_predict = model.predict(X_train[:m])\n",
    "        y_val_predict = model.predict(X_val)\n",
    "        train_error.append(mean_squared_error(Y_train[:m] , y_train_predict))\n",
    "        val_error.append(mean_squared_error(Y_val , y_val_predict))\n",
    "    plt.plot(np.sqrt(train_error) , 'r-+' , linewidth = 2  , label = 'train')\n",
    "    plt.plot(np.sqrt(val_error) , 'b-' , linewidth = 3 , label = 'val')\n",
    "    plt.legend()\n",
    "    plt.ylabel(\"RMSE\")\n",
    "    plt.xlabel(\"Training Set Size\")"
   ]
  },
  {
   "cell_type": "code",
   "execution_count": 52,
   "id": "e8c64f74",
   "metadata": {},
   "outputs": [
    {
     "data": {
      "image/png": "[encoded data removed]",
      "text/plain": [
       "<Figure size 432x288 with 1 Axes>"
      ]
     },
     "metadata": {
      "needs_background": "light"
     },
     "output_type": "display_data"
    }
   ],
   "source": [
    "lin_reg = LinearRegression()\n",
    "plot_learning_curves(lin_reg , X , y)"
   ]
  },
  {
   "cell_type": "code",
   "execution_count": 53,
   "id": "75848f3f",
   "metadata": {},
   "outputs": [],
   "source": [
    "from sklearn.pipeline import Pipeline"
   ]
  },
  {
   "cell_type": "code",
   "execution_count": 54,
   "id": "7993db3e",
   "metadata": {},
   "outputs": [],
   "source": [
    "polynomial_regression = Pipeline([\n",
    "    ('poly_features' , PolynomialFeatures(degree = 10  , include_bias=False)),\n",
    "    ('lin_reg', LinearRegression())\n",
    "])"
   ]
  },
  {
   "cell_type": "code",
   "execution_count": 55,
   "id": "177c17bb",
   "metadata": {},
   "outputs": [
    {
     "data": {
      "image/png": "[encoded data removed]",
      "text/plain": [
       "<Figure size 432x288 with 1 Axes>"
      ]
     },
     "metadata": {
      "needs_background": "light"
     },
     "output_type": "display_data"
    }
   ],
   "source": [
    "plot_learning_curves(polynomial_regression, X , y)"
   ]
  },
  {
   "cell_type": "markdown",
   "id": "5dfd0bf4",
   "metadata": {},
   "source": [
    "# Ridge  Regression"
   ]
  },
  {
   "cell_type": "code",
   "execution_count": 56,
   "id": "04e7f9f2",
   "metadata": {},
   "outputs": [],
   "source": [
    "from sklearn.linear_model import Ridge"
   ]
  },
  {
   "cell_type": "code",
   "execution_count": 57,
   "id": "4052ed7d",
   "metadata": {},
   "outputs": [
    {
     "data": {
      "text/plain": [
       "array([[5.50833076]])"
      ]
     },
     "execution_count": 57,
     "metadata": {},
     "output_type": "execute_result"
    }
   ],
   "source": [
    "ridge_reg = Ridge(alpha = 1 , solver = 'cholesky')\n",
    "ridge_reg.fit(X , y)\n",
    "ridge_reg.predict([[1.5]])"
   ]
  },
  {
   "cell_type": "code",
   "execution_count": 58,
   "id": "bf9fb649",
   "metadata": {},
   "outputs": [
    {
     "data": {
      "text/plain": [
       "array([5.47808104])"
      ]
     },
     "execution_count": 58,
     "metadata": {},
     "output_type": "execute_result"
    }
   ],
   "source": [
    "# Using Stochastic Gradient Descent \n",
    "sgd_reg = SGDRegressor(penalty='l2')\n",
    "sgd_reg.fit(X  , y.ravel())\n",
    "sgd_reg.predict([[1.5]])"
   ]
  },
  {
   "cell_type": "markdown",
   "id": "6edbb837",
   "metadata": {},
   "source": [
    "# Lasso Regression"
   ]
  },
  {
   "cell_type": "code",
   "execution_count": 59,
   "id": "5932bed7",
   "metadata": {},
   "outputs": [],
   "source": [
    "from sklearn.linear_model import Lasso"
   ]
  },
  {
   "cell_type": "code",
   "execution_count": 60,
   "id": "4ae819a1",
   "metadata": {},
   "outputs": [
    {
     "data": {
      "text/plain": [
       "Lasso(alpha=0.1)"
      ]
     },
     "execution_count": 60,
     "metadata": {},
     "output_type": "execute_result"
    }
   ],
   "source": [
    "lasso_reg = Lasso(alpha = 0.1)\n",
    "lasso_reg.fit(X , y)"
   ]
  },
  {
   "cell_type": "code",
   "execution_count": 61,
   "id": "c0027384",
   "metadata": {},
   "outputs": [
    {
     "data": {
      "text/plain": [
       "array([5.46067933])"
      ]
     },
     "execution_count": 61,
     "metadata": {},
     "output_type": "execute_result"
    }
   ],
   "source": [
    "lasso_reg.predict([[1.5]])"
   ]
  },
  {
   "cell_type": "markdown",
   "id": "8bd4e361",
   "metadata": {},
   "source": [
    "# Elastic Net "
   ]
  },
  {
   "cell_type": "code",
   "execution_count": 62,
   "id": "cc780dc7",
   "metadata": {},
   "outputs": [],
   "source": [
    "from sklearn.linear_model import ElasticNet"
   ]
  },
  {
   "cell_type": "code",
   "execution_count": 63,
   "id": "497c4cb2",
   "metadata": {},
   "outputs": [
    {
     "data": {
      "text/plain": [
       "ElasticNet(alpha=0.1)"
      ]
     },
     "execution_count": 63,
     "metadata": {},
     "output_type": "execute_result"
    }
   ],
   "source": [
    "elastic_net = ElasticNet(alpha = 0.1 , l1_ratio=0.5)\n",
    "elastic_net.fit(X , y)"
   ]
  },
  {
   "cell_type": "code",
   "execution_count": 64,
   "id": "0e399834",
   "metadata": {},
   "outputs": [
    {
     "data": {
      "text/plain": [
       "array([5.46152013])"
      ]
     },
     "execution_count": 64,
     "metadata": {},
     "output_type": "execute_result"
    }
   ],
   "source": [
    "elastic_net.predict([[1.5]])"
   ]
  },
  {
   "cell_type": "markdown",
   "id": "06b51544",
   "metadata": {},
   "source": [
    "# Early Stopping "
   ]
  },
  {
   "cell_type": "code",
   "execution_count": 67,
   "id": "c2454b75",
   "metadata": {},
   "outputs": [],
   "source": [
    "from sklearn.base import clone\n",
    "from sklearn.preprocessing import StandardScaler"
   ]
  },
  {
   "cell_type": "code",
   "execution_count": 77,
   "id": "81ac80e8",
   "metadata": {},
   "outputs": [],
   "source": [
    "poly_scaler = Pipeline([\n",
    "    ('poly_features' , PolynomialFeatures(degree = 90  ,  include_bias= False)),\n",
    "    ('std_scaler' , StandardScaler())\n",
    "])\n",
    "\n",
    "X_train, X_val , Y_train , Y_val = train_test_split(X , y , test_size = 0.2 ,  random_state = 42)"
   ]
  },
  {
   "cell_type": "code",
   "execution_count": 78,
   "id": "55139793",
   "metadata": {},
   "outputs": [],
   "source": [
    "X_train_poly_scaled = poly_scaler.fit_transform(X_train)\n",
    "X_val_poly_scaled = poly_scaler.fit_transform(X_val)"
   ]
  },
  {
   "cell_type": "code",
   "execution_count": 79,
   "id": "4ef5869d",
   "metadata": {},
   "outputs": [],
   "source": [
    "sgd_reg = SGDRegressor(max_iter= 1, tol = -np.infty , warm_start = True , penalty= None , learning_rate='constant' , eta0=0.0005)"
   ]
  },
  {
   "cell_type": "code",
   "execution_count": 81,
   "id": "18772093",
   "metadata": {},
   "outputs": [],
   "source": [
    "minimum_val_error = float('inf')\n",
    "best_epoch = None\n",
    "best_model = None\n",
    "for epoch in range(1000):\n",
    "    sgd_reg.fit(X_train_poly_scaled , Y_train.ravel())\n",
    "    y_val_predict = sgd_reg.predict(X_val_poly_scaled)\n",
    "    val_error = mean_squared_error(Y_val , y_val_predict)\n",
    "    if val_error < minimum_val_error:\n",
    "        minimum_val_error = val_error\n",
    "        best_epoch = epoch\n",
    "        best_model =clone(sgd_reg)"
   ]
  },
  {
   "cell_type": "code",
   "execution_count": 83,
   "id": "bf305bf4",
   "metadata": {},
   "outputs": [
    {
     "data": {
      "text/plain": [
       "(788,\n",
       " SGDRegressor(eta0=0.0005, learning_rate='constant', max_iter=1, penalty=None,\n",
       "              tol=-inf, warm_start=True))"
      ]
     },
     "execution_count": 83,
     "metadata": {},
     "output_type": "execute_result"
    }
   ],
   "source": [
    "best_epoch , best_model"
   ]
  },
  {
   "cell_type": "code",
   "execution_count": null,
   "id": "bba1fa80",
   "metadata": {},
   "outputs": [],
   "source": []
  }
 ],
 "metadata": {
  "kernelspec": {
   "display_name": "Python 3 (ipykernel)",
   "language": "python",
   "name": "python3"
  },
  "language_info": {
   "codemirror_mode": {
    "name": "ipython",
    "version": 3
   },
   "file_extension": ".py",
   "mimetype": "text/x-python",
   "name": "python",
   "nbconvert_exporter": "python",
   "pygments_lexer": "ipython3",
   "version": "3.9.7"
  }
 },
 "nbformat": 4,
 "nbformat_minor": 5
}
