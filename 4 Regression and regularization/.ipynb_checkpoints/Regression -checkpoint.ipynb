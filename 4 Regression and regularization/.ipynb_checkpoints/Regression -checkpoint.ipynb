{
 "cells": [
  {
   "cell_type": "code",
   "execution_count": 1,
   "id": "5ce542e0",
   "metadata": {},
   "outputs": [],
   "source": [
    "import numpy as np\n",
    "import seaborn as sn\n",
    "import matplotlib.pyplot as plt"
   ]
  },
  {
   "cell_type": "code",
   "execution_count": 2,
   "id": "e72ba1a6",
   "metadata": {},
   "outputs": [],
   "source": [
    "X = 2 * np.random.rand(100 , 1)"
   ]
  },
  {
   "cell_type": "code",
   "execution_count": 3,
   "id": "bf3f7c7f",
   "metadata": {},
   "outputs": [
    {
     "data": {
      "text/plain": [
       "array([[1.60102492],\n",
       "       [1.88005038],\n",
       "       [1.19058838]])"
      ]
     },
     "execution_count": 3,
     "metadata": {},
     "output_type": "execute_result"
    }
   ],
   "source": [
    "X[:3]"
   ]
  },
  {
   "cell_type": "code",
   "execution_count": 4,
   "id": "9f82c019",
   "metadata": {},
   "outputs": [],
   "source": [
    "Y = 4 + 3 * X + np.random.rand(100 , 1) "
   ]
  },
  {
   "cell_type": "code",
   "execution_count": 5,
   "id": "501d1c75",
   "metadata": {},
   "outputs": [
    {
     "data": {
      "text/plain": [
       "array([[ 8.97109594],\n",
       "       [10.48379622],\n",
       "       [ 8.25242229]])"
      ]
     },
     "execution_count": 5,
     "metadata": {},
     "output_type": "execute_result"
    }
   ],
   "source": [
    "Y[:3]"
   ]
  },
  {
   "cell_type": "code",
   "execution_count": 6,
   "id": "d5ffb24a",
   "metadata": {},
   "outputs": [
    {
     "data": {
      "text/plain": [
       "<AxesSubplot:>"
      ]
     },
     "execution_count": 6,
     "metadata": {},
     "output_type": "execute_result"
    },
    {
     "data": {
      "image/png": "[encoded data removed]",
      "text/plain": [
       "<Figure size 432x288 with 1 Axes>"
      ]
     },
     "metadata": {
      "needs_background": "light"
     },
     "output_type": "display_data"
    }
   ],
   "source": [
    "sn.scatterplot(x = X[: , 0], y =  Y[: , 0])"
   ]
  },
  {
   "cell_type": "code",
   "execution_count": 7,
   "id": "e68303d9",
   "metadata": {},
   "outputs": [],
   "source": [
    "X_b = np.c_[np.ones((100 , 1)) , X]"
   ]
  },
  {
   "cell_type": "code",
   "execution_count": 8,
   "id": "8c51ca25",
   "metadata": {},
   "outputs": [
    {
     "data": {
      "text/plain": [
       "array([[1.        , 1.60102492],\n",
       "       [1.        , 1.88005038],\n",
       "       [1.        , 1.19058838]])"
      ]
     },
     "execution_count": 8,
     "metadata": {},
     "output_type": "execute_result"
    }
   ],
   "source": [
    "X_b[:3]"
   ]
  },
  {
   "cell_type": "code",
   "execution_count": 9,
   "id": "e1db8bb6",
   "metadata": {},
   "outputs": [
    {
     "data": {
      "text/plain": [
       "array([[1.60102492],\n",
       "       [1.88005038],\n",
       "       [1.19058838]])"
      ]
     },
     "execution_count": 9,
     "metadata": {},
     "output_type": "execute_result"
    }
   ],
   "source": [
    "X[:3]"
   ]
  },
  {
   "cell_type": "code",
   "execution_count": 10,
   "id": "bd21e0ac",
   "metadata": {},
   "outputs": [],
   "source": [
    "theta_best = np.linalg.inv(X_b.T.dot(X_b)).dot(X_b.T).dot(Y)"
   ]
  },
  {
   "cell_type": "code",
   "execution_count": 11,
   "id": "9b74e611",
   "metadata": {},
   "outputs": [
    {
     "data": {
      "text/plain": [
       "array([[4.43703026],\n",
       "       [3.04000277]])"
      ]
     },
     "execution_count": 11,
     "metadata": {},
     "output_type": "execute_result"
    }
   ],
   "source": [
    "theta_best"
   ]
  },
  {
   "cell_type": "code",
   "execution_count": 12,
   "id": "8112cc9c",
   "metadata": {},
   "outputs": [
    {
     "data": {
      "text/plain": [
       "array([[0],\n",
       "       [2]])"
      ]
     },
     "execution_count": 12,
     "metadata": {},
     "output_type": "execute_result"
    }
   ],
   "source": [
    "X_new = np.array([[0] , [2]])\n",
    "X_new"
   ]
  },
  {
   "cell_type": "code",
   "execution_count": 13,
   "id": "c7909912",
   "metadata": {},
   "outputs": [
    {
     "data": {
      "text/plain": [
       "array([[1., 0.],\n",
       "       [1., 2.]])"
      ]
     },
     "execution_count": 13,
     "metadata": {},
     "output_type": "execute_result"
    }
   ],
   "source": [
    "X_new_b = np.c_[(np.ones((2 , 1))) , X_new]\n",
    "X_new_b"
   ]
  },
  {
   "cell_type": "code",
   "execution_count": 14,
   "id": "75598381",
   "metadata": {},
   "outputs": [],
   "source": [
    "Y_predict = X_new_b.dot(theta_best)"
   ]
  },
  {
   "cell_type": "code",
   "execution_count": 15,
   "id": "bb7d41ea",
   "metadata": {},
   "outputs": [
    {
     "data": {
      "text/plain": [
       "array([[ 4.43703026],\n",
       "       [10.5170358 ]])"
      ]
     },
     "execution_count": 15,
     "metadata": {},
     "output_type": "execute_result"
    }
   ],
   "source": [
    "Y_predict"
   ]
  },
  {
   "cell_type": "code",
   "execution_count": 16,
   "id": "ca2c0924",
   "metadata": {},
   "outputs": [
    {
     "data": {
      "image/png": "[encoded data removed]",
      "text/plain": [
       "<Figure size 432x288 with 1 Axes>"
      ]
     },
     "metadata": {
      "needs_background": "light"
     },
     "output_type": "display_data"
    }
   ],
   "source": [
    "plt.plot(X_new , Y_predict, \"r-\")\n",
    "plt.plot(X , Y , \"b.\")\n",
    "plt.axis([0 , 2 , 0 ,  15])\n",
    "plt.show()"
   ]
  },
  {
   "cell_type": "markdown",
   "id": "af4736b2",
   "metadata": {},
   "source": [
    "# Using Scikit Learn Pakage"
   ]
  },
  {
   "cell_type": "code",
   "execution_count": 17,
   "id": "288944f2",
   "metadata": {},
   "outputs": [],
   "source": [
    "from sklearn.linear_model import LinearRegression"
   ]
  },
  {
   "cell_type": "code",
   "execution_count": 18,
   "id": "6351aed4",
   "metadata": {},
   "outputs": [],
   "source": [
    "lin_reg = LinearRegression()"
   ]
  },
  {
   "cell_type": "code",
   "execution_count": 19,
   "id": "cdaf1c6c",
   "metadata": {},
   "outputs": [
    {
     "data": {
      "text/plain": [
       "LinearRegression()"
      ]
     },
     "execution_count": 19,
     "metadata": {},
     "output_type": "execute_result"
    }
   ],
   "source": [
    "lin_reg.fit(X , Y)"
   ]
  },
  {
   "cell_type": "code",
   "execution_count": 20,
   "id": "df66b490",
   "metadata": {},
   "outputs": [
    {
     "data": {
      "text/plain": [
       "(array([4.43703026]), array([[3.04000277]]))"
      ]
     },
     "execution_count": 20,
     "metadata": {},
     "output_type": "execute_result"
    }
   ],
   "source": [
    "lin_reg.intercept_ , lin_reg.coef_"
   ]
  },
  {
   "cell_type": "code",
   "execution_count": 21,
   "id": "bae3f850",
   "metadata": {},
   "outputs": [
    {
     "data": {
      "text/plain": [
       "array([[ 4.43703026],\n",
       "       [10.5170358 ]])"
      ]
     },
     "execution_count": 21,
     "metadata": {},
     "output_type": "execute_result"
    }
   ],
   "source": [
    "lin_reg.predict(X_new)"
   ]
  },
  {
   "cell_type": "code",
   "execution_count": 22,
   "id": "2b84d74c",
   "metadata": {},
   "outputs": [],
   "source": [
    "theta_best_svd , residual , rank , s = np.linalg.lstsq(X_b , Y , rcond=1e-6)"
   ]
  },
  {
   "cell_type": "code",
   "execution_count": 23,
   "id": "a741694d",
   "metadata": {},
   "outputs": [
    {
     "data": {
      "text/plain": [
       "array([[4.43703026],\n",
       "       [3.04000277]])"
      ]
     },
     "execution_count": 23,
     "metadata": {},
     "output_type": "execute_result"
    }
   ],
   "source": [
    "theta_best_svd"
   ]
  },
  {
   "cell_type": "code",
   "execution_count": 24,
   "id": "060a2bf9",
   "metadata": {},
   "outputs": [
    {
     "data": {
      "text/plain": [
       "array([7.88486433])"
      ]
     },
     "execution_count": 24,
     "metadata": {},
     "output_type": "execute_result"
    }
   ],
   "source": [
    "residual"
   ]
  },
  {
   "cell_type": "code",
   "execution_count": 25,
   "id": "543d9a61",
   "metadata": {},
   "outputs": [
    {
     "data": {
      "text/plain": [
       "2"
      ]
     },
     "execution_count": 25,
     "metadata": {},
     "output_type": "execute_result"
    }
   ],
   "source": [
    "rank"
   ]
  },
  {
   "cell_type": "code",
   "execution_count": 26,
   "id": "35089cbb",
   "metadata": {},
   "outputs": [
    {
     "data": {
      "text/plain": [
       "array([15.7660376 ,  3.68184029])"
      ]
     },
     "execution_count": 26,
     "metadata": {},
     "output_type": "execute_result"
    }
   ],
   "source": [
    "s"
   ]
  },
  {
   "cell_type": "markdown",
   "id": "7af8e4e1",
   "metadata": {},
   "source": [
    "# Batch Gradient Descent "
   ]
  },
  {
   "cell_type": "code",
   "execution_count": 27,
   "id": "739b3838",
   "metadata": {},
   "outputs": [],
   "source": [
    "eta  = 0.01\n",
    "n_iterations = 1000\n",
    "m = 100 #no of parameters"
   ]
  },
  {
   "cell_type": "code",
   "execution_count": 28,
   "id": "1d90b150",
   "metadata": {},
   "outputs": [
    {
     "data": {
      "text/plain": [
       "array([[0.9962371 ],\n",
       "       [0.54688307]])"
      ]
     },
     "execution_count": 28,
     "metadata": {},
     "output_type": "execute_result"
    }
   ],
   "source": [
    "theta = np.random.randn(2 , 1)\n",
    "theta"
   ]
  },
  {
   "cell_type": "code",
   "execution_count": 29,
   "id": "5d2d6abc",
   "metadata": {},
   "outputs": [
    {
     "data": {
      "text/plain": [
       "array([[1.        , 1.60102492],\n",
       "       [1.        , 1.88005038],\n",
       "       [1.        , 1.19058838],\n",
       "       [1.        , 1.11381898]])"
      ]
     },
     "execution_count": 29,
     "metadata": {},
     "output_type": "execute_result"
    }
   ],
   "source": [
    "X_b[:4]"
   ]
  },
  {
   "cell_type": "code",
   "execution_count": 30,
   "id": "0491a49a",
   "metadata": {},
   "outputs": [
    {
     "data": {
      "text/plain": [
       "array([[ 8.97109594],\n",
       "       [10.48379622],\n",
       "       [ 8.25242229],\n",
       "       [ 7.5653716 ],\n",
       "       [ 8.84682815]])"
      ]
     },
     "execution_count": 30,
     "metadata": {},
     "output_type": "execute_result"
    }
   ],
   "source": [
    "Y[:5]"
   ]
  },
  {
   "cell_type": "code",
   "execution_count": 31,
   "id": "fb0ffce4",
   "metadata": {},
   "outputs": [],
   "source": [
    "for iteration in range(n_iterations):\n",
    "    gradients = 2/m* X_b.T.dot(X_b.dot(theta) - Y)\n",
    "    theta = theta - eta * gradients"
   ]
  },
  {
   "cell_type": "code",
   "execution_count": 32,
   "id": "f81f889a",
   "metadata": {},
   "outputs": [
    {
     "data": {
      "text/plain": [
       "array([[4.37260759],\n",
       "       [3.08914373]])"
      ]
     },
     "execution_count": 32,
     "metadata": {},
     "output_type": "execute_result"
    }
   ],
   "source": [
    "theta"
   ]
  },
  {
   "cell_type": "markdown",
   "id": "dca5b02d",
   "metadata": {},
   "source": [
    "# Stochastic Gradient Descent "
   ]
  },
  {
   "cell_type": "code",
   "execution_count": 33,
   "id": "f126ec1c",
   "metadata": {},
   "outputs": [],
   "source": [
    "n_epochs = 50\n",
    "t0 , t1 = 5 , 50"
   ]
  },
  {
   "cell_type": "code",
   "execution_count": 34,
   "id": "b0f61695",
   "metadata": {},
   "outputs": [],
   "source": [
    "def learning_schedule(t):\n",
    "    return t0/(t+t1)"
   ]
  },
  {
   "cell_type": "code",
   "execution_count": 40,
   "id": "d2e10e8a",
   "metadata": {},
   "outputs": [
    {
     "data": {
      "text/plain": [
       "array([[-0.421078 ],\n",
       "       [-1.1152239]])"
      ]
     },
     "execution_count": 40,
     "metadata": {},
     "output_type": "execute_result"
    }
   ],
   "source": [
    "theta = np.random.randn(2 , 1)\n",
    "theta"
   ]
  },
  {
   "cell_type": "code",
   "execution_count": 43,
   "id": "35d3b31d",
   "metadata": {},
   "outputs": [],
   "source": [
    "for epoch in range(n_epochs):\n",
    "    for i in range(m):\n",
    "        random_index = np.random.randint(m)\n",
    "        xi = X_b[random_index : random_index+1]\n",
    "        yi = Y[random_index : random_index+1]\n",
    "        gradient = 2*xi.T.dot(xi.dot(theta)-yi)\n",
    "        eta = learning_schedule(epoch*m+i)\n",
    "        theta = theta - eta*gradient"
   ]
  },
  {
   "cell_type": "code",
   "execution_count": 44,
   "id": "4c4de4ae",
   "metadata": {},
   "outputs": [
    {
     "data": {
      "text/plain": [
       "array([[4.44381342],\n",
       "       [3.04409339]])"
      ]
     },
     "execution_count": 44,
     "metadata": {},
     "output_type": "execute_result"
    }
   ],
   "source": [
    "theta"
   ]
  },
  {
   "cell_type": "code",
   "execution_count": 45,
   "id": "69284b9a",
   "metadata": {},
   "outputs": [],
   "source": [
    "from sklearn.linear_model import SGDRegressor\n",
    "sgd_reg = SGDRegressor(max_iter = 1000 , tol = 1e-3 , penalty = None  , eta0 = 0.1)"
   ]
  },
  {
   "cell_type": "code",
   "execution_count": 46,
   "id": "34e63034",
   "metadata": {},
   "outputs": [
    {
     "data": {
      "text/plain": [
       "SGDRegressor(eta0=0.1, penalty=None)"
      ]
     },
     "execution_count": 46,
     "metadata": {},
     "output_type": "execute_result"
    }
   ],
   "source": [
    "sgd_reg.fit(X  , Y.ravel())"
   ]
  },
  {
   "cell_type": "code",
   "execution_count": 47,
   "id": "830abec6",
   "metadata": {},
   "outputs": [
    {
     "data": {
      "text/plain": [
       "(array([4.40313944]), array([3.06799094]))"
      ]
     },
     "execution_count": 47,
     "metadata": {},
     "output_type": "execute_result"
    }
   ],
   "source": [
    "sgd_reg.intercept_ , sgd_reg.coef_"
   ]
  },
  {
   "cell_type": "markdown",
   "id": "b6ca0a7e",
   "metadata": {},
   "source": [
    "# Polynomial Regression "
   ]
  },
  {
   "cell_type": "code",
   "execution_count": 48,
   "id": "62ae2ad2",
   "metadata": {},
   "outputs": [],
   "source": [
    "m = 100\n",
    "X = 6*np.random.rand(m , 1)-3\n",
    "y = 0.5*X**2 + X + 2 + np.random.rand(m ,1 )"
   ]
  },
  {
   "cell_type": "code",
   "execution_count": 57,
   "id": "65717009",
   "metadata": {},
   "outputs": [
    {
     "data": {
      "text/plain": [
       "<matplotlib.collections.PathCollection at 0x174b0a964f0>"
      ]
     },
     "execution_count": 57,
     "metadata": {},
     "output_type": "execute_result"
    },
    {
     "data": {
      "image/png": "[encoded data removed]",
      "text/plain": [
       "<Figure size 432x288 with 1 Axes>"
      ]
     },
     "metadata": {
      "needs_background": "light"
     },
     "output_type": "display_data"
    }
   ],
   "source": [
    "plt.scatter(X  , y , c = 'violet')"
   ]
  },
  {
   "cell_type": "code",
   "execution_count": 58,
   "id": "87cd484c",
   "metadata": {},
   "outputs": [],
   "source": [
    "from sklearn.preprocessing import PolynomialFeatures"
   ]
  },
  {
   "cell_type": "code",
   "execution_count": 65,
   "id": "5facef4c",
   "metadata": {},
   "outputs": [],
   "source": [
    "poly_features = PolynomialFeatures(degree = 2 , include_bias= False)\n",
    "X_poly = poly_features.fit_transform(X)"
   ]
  },
  {
   "cell_type": "code",
   "execution_count": 66,
   "id": "76794673",
   "metadata": {},
   "outputs": [
    {
     "data": {
      "text/plain": [
       "array([2.73112799])"
      ]
     },
     "execution_count": 66,
     "metadata": {},
     "output_type": "execute_result"
    }
   ],
   "source": [
    "X[0]"
   ]
  },
  {
   "cell_type": "code",
   "execution_count": 67,
   "id": "398062a9",
   "metadata": {},
   "outputs": [
    {
     "data": {
      "text/plain": [
       "array([2.73112799, 7.45906012])"
      ]
     },
     "execution_count": 67,
     "metadata": {},
     "output_type": "execute_result"
    }
   ],
   "source": [
    "X_poly[0]"
   ]
  },
  {
   "cell_type": "code",
   "execution_count": 68,
   "id": "030de58e",
   "metadata": {},
   "outputs": [
    {
     "data": {
      "text/plain": [
       "LinearRegression()"
      ]
     },
     "execution_count": 68,
     "metadata": {},
     "output_type": "execute_result"
    }
   ],
   "source": [
    "lin_reg = LinearRegression()\n",
    "lin_reg.fit(X_poly , y)"
   ]
  },
  {
   "cell_type": "code",
   "execution_count": 69,
   "id": "48443f05",
   "metadata": {},
   "outputs": [
    {
     "data": {
      "text/plain": [
       "(array([2.57004376]), array([[0.98570718, 0.48288468]]))"
      ]
     },
     "execution_count": 69,
     "metadata": {},
     "output_type": "execute_result"
    }
   ],
   "source": [
    "lin_reg.intercept_ , lin_reg.coef_"
   ]
  },
  {
   "cell_type": "code",
   "execution_count": 71,
   "id": "7d348142",
   "metadata": {},
   "outputs": [],
   "source": [
    "Y_predict_poly = lin_reg.predict(X_poly)"
   ]
  },
  {
   "cell_type": "code",
   "execution_count": 72,
   "id": "1b32b3e7",
   "metadata": {},
   "outputs": [
    {
     "data": {
      "text/plain": [
       "<matplotlib.collections.PathCollection at 0x174b2431b20>"
      ]
     },
     "execution_count": 72,
     "metadata": {},
     "output_type": "execute_result"
    },
    {
     "data": {
      "image/png": "[encoded data removed]",
      "text/plain": [
       "<Figure size 432x288 with 1 Axes>"
      ]
     },
     "metadata": {
      "needs_background": "light"
     },
     "output_type": "display_data"
    }
   ],
   "source": []
  },
  {
   "cell_type": "code",
   "execution_count": null,
   "id": "39812e0c",
   "metadata": {},
   "outputs": [],
   "source": []
  }
 ],
 "metadata": {
  "kernelspec": {
   "display_name": "Python 3 (ipykernel)",
   "language": "python",
   "name": "python3"
  },
  "language_info": {
   "codemirror_mode": {
    "name": "ipython",
    "version": 3
   },
   "file_extension": ".py",
   "mimetype": "text/x-python",
   "name": "python",
   "nbconvert_exporter": "python",
   "pygments_lexer": "ipython3",
   "version": "3.9.7"
  }
 },
 "nbformat": 4,
 "nbformat_minor": 5
}
