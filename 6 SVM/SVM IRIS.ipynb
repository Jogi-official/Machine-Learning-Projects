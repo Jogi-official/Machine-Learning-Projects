{
 "cells": [
  {
   "cell_type": "code",
   "execution_count": 1,
   "id": "0b8aa975",
   "metadata": {},
   "outputs": [],
   "source": [
    "import numpy as np\n",
    "from sklearn import datasets\n",
    "from sklearn.pipeline import Pipeline\n",
    "from sklearn.preprocessing import StandardScaler\n",
    "from sklearn.svm import LinearSVC\n",
    "import warnings\n",
    "warnings.filterwarnings('ignore')"
   ]
  },
  {
   "cell_type": "code",
   "execution_count": 2,
   "id": "5aa18daf",
   "metadata": {},
   "outputs": [],
   "source": [
    "iris = datasets.load_iris()\n",
    "X  = iris['data'][: , (2 , 3)]\n",
    "y = (iris['target'] == 2).astype(np.float64)"
   ]
  },
  {
   "cell_type": "code",
   "execution_count": 3,
   "id": "e741b92d",
   "metadata": {},
   "outputs": [],
   "source": [
    "svm_clf = Pipeline([\n",
    "    ('scaler' , StandardScaler()),\n",
    "    ('linear_svc' , LinearSVC(C = 1 , loss = 'hinge'))\n",
    "])"
   ]
  },
  {
   "cell_type": "code",
   "execution_count": 4,
   "id": "1f7b256d",
   "metadata": {},
   "outputs": [
    {
     "data": {
      "text/plain": [
       "Pipeline(steps=[('scaler', StandardScaler()),\n",
       "                ('linear_svc', LinearSVC(C=1, loss='hinge'))])"
      ]
     },
     "execution_count": 4,
     "metadata": {},
     "output_type": "execute_result"
    }
   ],
   "source": [
    "svm_clf.fit(X , y)"
   ]
  },
  {
   "cell_type": "code",
   "execution_count": 5,
   "id": "f5f48078",
   "metadata": {},
   "outputs": [
    {
     "data": {
      "text/plain": [
       "array([1.])"
      ]
     },
     "execution_count": 5,
     "metadata": {},
     "output_type": "execute_result"
    }
   ],
   "source": [
    "svm_clf.predict([[5.5 , 1.7]])"
   ]
  },
  {
   "cell_type": "markdown",
   "id": "eab3696e",
   "metadata": {},
   "source": [
    "# Non-Linear SVM Classification"
   ]
  },
  {
   "cell_type": "code",
   "execution_count": 6,
   "id": "98d3aff3",
   "metadata": {},
   "outputs": [],
   "source": [
    "from sklearn.datasets import make_moons\n",
    "from sklearn.preprocessing import PolynomialFeatures"
   ]
  },
  {
   "cell_type": "code",
   "execution_count": 7,
   "id": "55571f81",
   "metadata": {},
   "outputs": [],
   "source": [
    "X ,y = make_moons(n_samples = 100 , noise = 0.15)\n",
    "polynomial_svm_clf = Pipeline([\n",
    "    ('poly_features' , PolynomialFeatures(degree=3)),\n",
    "    ('scaler' , StandardScaler()),\n",
    "    ('svm_clf' , LinearSVC(C =10 , loss = 'hinge' ))\n",
    "])"
   ]
  },
  {
   "cell_type": "code",
   "execution_count": 8,
   "id": "83f20573",
   "metadata": {},
   "outputs": [
    {
     "data": {
      "text/plain": [
       "Pipeline(steps=[('poly_features', PolynomialFeatures(degree=3)),\n",
       "                ('scaler', StandardScaler()),\n",
       "                ('svm_clf', LinearSVC(C=10, loss='hinge'))])"
      ]
     },
     "execution_count": 8,
     "metadata": {},
     "output_type": "execute_result"
    }
   ],
   "source": [
    "polynomial_svm_clf.fit(X , y)"
   ]
  },
  {
   "cell_type": "code",
   "execution_count": 9,
   "id": "638416a1",
   "metadata": {},
   "outputs": [
    {
     "data": {
      "text/plain": [
       "array([0], dtype=int64)"
      ]
     },
     "execution_count": 9,
     "metadata": {},
     "output_type": "execute_result"
    }
   ],
   "source": [
    "polynomial_svm_clf.predict([[1.5 , 2.3]])"
   ]
  },
  {
   "cell_type": "markdown",
   "id": "4ff8d51a",
   "metadata": {},
   "source": [
    "# Polynomial Kernel "
   ]
  },
  {
   "cell_type": "code",
   "execution_count": 10,
   "id": "8bdac1b0",
   "metadata": {},
   "outputs": [],
   "source": [
    "from sklearn.svm  import SVC"
   ]
  },
  {
   "cell_type": "code",
   "execution_count": 11,
   "id": "bdaaef24",
   "metadata": {},
   "outputs": [
    {
     "data": {
      "text/plain": [
       "Pipeline(steps=[('scaler', StandardScaler()),\n",
       "                ('svm_clf', SVC(C=5, coef0=1, kernel='poly'))])"
      ]
     },
     "execution_count": 11,
     "metadata": {},
     "output_type": "execute_result"
    }
   ],
   "source": [
    "poly_kernel_clf = Pipeline([\n",
    "    ('scaler' , StandardScaler()),\n",
    "    ('svm_clf' , SVC(kernel='poly' , degree = 3 , coef0 = 1 , C = 5))\n",
    "])\n",
    "\n",
    "poly_kernel_clf.fit(X , y)"
   ]
  },
  {
   "cell_type": "markdown",
   "id": "d15dd55d",
   "metadata": {},
   "source": [
    "# Radial Basis Kernel"
   ]
  },
  {
   "cell_type": "code",
   "execution_count": 12,
   "id": "6ce2d30e",
   "metadata": {},
   "outputs": [
    {
     "data": {
      "text/plain": [
       "Pipeline(steps=[('scaler', StandardScaler()),\n",
       "                ('svm_clf', SVC(C=0.001, gamma=5))])"
      ]
     },
     "execution_count": 12,
     "metadata": {},
     "output_type": "execute_result"
    }
   ],
   "source": [
    "rbf_svm_clf = Pipeline([\n",
    "    ('scaler' , StandardScaler()),\n",
    "    ('svm_clf' , SVC(kernel='rbf' , gamma = 5 , C = 0.001))\n",
    "])\n",
    "rbf_svm_clf.fit(X  , y)"
   ]
  },
  {
   "cell_type": "markdown",
   "id": "bc0b1ca5",
   "metadata": {},
   "source": [
    "# SVM Regression"
   ]
  },
  {
   "cell_type": "code",
   "execution_count": 15,
   "id": "e8a1e578",
   "metadata": {},
   "outputs": [],
   "source": [
    "from sklearn.svm import LinearSVR\n",
    "from sklearn.svm import SVR"
   ]
  },
  {
   "cell_type": "code",
   "execution_count": 14,
   "id": "1e5a4fed",
   "metadata": {},
   "outputs": [
    {
     "data": {
      "text/plain": [
       "LinearSVR(epsilon=1.5)"
      ]
     },
     "execution_count": 14,
     "metadata": {},
     "output_type": "execute_result"
    }
   ],
   "source": [
    "svm_reg = LinearSVR(epsilon= 1.5)\n",
    "svm_reg.fit(X , y)"
   ]
  },
  {
   "cell_type": "code",
   "execution_count": 18,
   "id": "1efbbcb0",
   "metadata": {},
   "outputs": [
    {
     "data": {
      "text/plain": [
       "SVR(C=100, degree=2, kernel='poly')"
      ]
     },
     "execution_count": 18,
     "metadata": {},
     "output_type": "execute_result"
    }
   ],
   "source": [
    "svm_poly_reg =SVR(kernel='poly' , degree =2  , C = 100  , epsilon= 0.1)\n",
    "svm_poly_reg.fit(X , y)"
   ]
  },
  {
   "cell_type": "code",
   "execution_count": null,
   "id": "deb6e6b0",
   "metadata": {},
   "outputs": [],
   "source": []
  }
 ],
 "metadata": {
  "kernelspec": {
   "display_name": "Python 3 (ipykernel)",
   "language": "python",
   "name": "python3"
  },
  "language_info": {
   "codemirror_mode": {
    "name": "ipython",
    "version": 3
   },
   "file_extension": ".py",
   "mimetype": "text/x-python",
   "name": "python",
   "nbconvert_exporter": "python",
   "pygments_lexer": "ipython3",
   "version": "3.9.7"
  }
 },
 "nbformat": 4,
 "nbformat_minor": 5
}
