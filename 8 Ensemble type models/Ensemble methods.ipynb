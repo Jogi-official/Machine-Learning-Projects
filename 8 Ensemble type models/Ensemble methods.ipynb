{
 "cells": [
  {
   "cell_type": "markdown",
   "id": "2015061e",
   "metadata": {},
   "source": [
    "# Voting Classifiers\n"
   ]
  },
  {
   "cell_type": "code",
   "execution_count": 1,
   "id": "235202ac",
   "metadata": {},
   "outputs": [],
   "source": [
    "from sklearn.datasets import make_moons\n",
    "from sklearn.model_selection import train_test_split"
   ]
  },
  {
   "cell_type": "code",
   "execution_count": 2,
   "id": "d615738a",
   "metadata": {},
   "outputs": [],
   "source": [
    "X , y = make_moons(n_samples= 1000 , noise = 0.15)"
   ]
  },
  {
   "cell_type": "code",
   "execution_count": 3,
   "id": "7fb931cb",
   "metadata": {},
   "outputs": [],
   "source": [
    "X_train , X_test , y_train , y_test  = train_test_split(X , y , random_state = 42 , test_size = 0.2)"
   ]
  },
  {
   "cell_type": "code",
   "execution_count": 4,
   "id": "336530e6",
   "metadata": {},
   "outputs": [],
   "source": [
    "from sklearn.ensemble import RandomForestClassifier\n",
    "from sklearn.ensemble import VotingClassifier\n",
    "from sklearn.linear_model import LogisticRegression\n",
    "from sklearn.svm import SVC"
   ]
  },
  {
   "cell_type": "code",
   "execution_count": 5,
   "id": "9c3c6fe0",
   "metadata": {},
   "outputs": [],
   "source": [
    "log_clf = LogisticRegression()\n",
    "rnd_clf = RandomForestClassifier()\n",
    "svm_clf = SVC() #probabilty = True for soft "
   ]
  },
  {
   "cell_type": "code",
   "execution_count": 6,
   "id": "e46bef84",
   "metadata": {},
   "outputs": [
    {
     "data": {
      "text/plain": [
       "VotingClassifier(estimators=[('lr', LogisticRegression()),\n",
       "                             ('rf', RandomForestClassifier()), ('svc', SVC())])"
      ]
     },
     "execution_count": 6,
     "metadata": {},
     "output_type": "execute_result"
    }
   ],
   "source": [
    "voting_clf = VotingClassifier(\n",
    "    estimators=[('lr' , log_clf) , ('rf' , rnd_clf) , ('svc' , svm_clf)],\n",
    "    voting = 'hard'\n",
    ")\n",
    "voting_clf.fit(X_train , y_train)"
   ]
  },
  {
   "cell_type": "code",
   "execution_count": 7,
   "id": "5ccec7fb",
   "metadata": {},
   "outputs": [],
   "source": [
    "from sklearn.metrics import accuracy_score"
   ]
  },
  {
   "cell_type": "code",
   "execution_count": 8,
   "id": "38f25c8c",
   "metadata": {},
   "outputs": [
    {
     "name": "stdout",
     "output_type": "stream",
     "text": [
      "LogisticRegression 0.885\n",
      "RandomForestClassifier 0.98\n",
      "VotingClassifier 0.985\n"
     ]
    }
   ],
   "source": [
    "for clf in(log_clf , rnd_clf , voting_clf):\n",
    "    clf.fit(X_train , y_train)\n",
    "    y_pred = clf.predict(X_test)\n",
    "    print(clf.__class__.__name__ , accuracy_score(y_test , y_pred))"
   ]
  },
  {
   "cell_type": "markdown",
   "id": "6c6de8d8",
   "metadata": {},
   "source": [
    "# Bagging and Pasting "
   ]
  },
  {
   "cell_type": "code",
   "execution_count": 9,
   "id": "bb886561",
   "metadata": {},
   "outputs": [],
   "source": [
    "from sklearn.ensemble import BaggingClassifier\n",
    "from sklearn.tree import DecisionTreeClassifier"
   ]
  },
  {
   "cell_type": "code",
   "execution_count": 10,
   "id": "06aeffd4",
   "metadata": {},
   "outputs": [
    {
     "data": {
      "text/plain": [
       "BaggingClassifier(base_estimator=DecisionTreeClassifier(), max_samples=100,\n",
       "                  n_estimators=500, n_jobs=-1)"
      ]
     },
     "execution_count": 10,
     "metadata": {},
     "output_type": "execute_result"
    }
   ],
   "source": [
    "bag_clf = BaggingClassifier(\n",
    "    DecisionTreeClassifier() , n_estimators=500 , \n",
    "    max_samples = 100 , bootstrap= True ,  n_jobs=-1\n",
    ")\n",
    "bag_clf.fit(X_train ,y_train)"
   ]
  },
  {
   "cell_type": "code",
   "execution_count": 11,
   "id": "3442e026",
   "metadata": {},
   "outputs": [],
   "source": [
    "y_pred = bag_clf.predict(X_test)"
   ]
  },
  {
   "cell_type": "markdown",
   "id": "02671a7a",
   "metadata": {},
   "source": [
    "# Out of Bag Evaluation (OOB)"
   ]
  },
  {
   "cell_type": "code",
   "execution_count": 12,
   "id": "def7dfe3",
   "metadata": {},
   "outputs": [
    {
     "data": {
      "text/plain": [
       "BaggingClassifier(base_estimator=DecisionTreeClassifier(), n_estimators=500,\n",
       "                  n_jobs=-1, oob_score=True)"
      ]
     },
     "execution_count": 12,
     "metadata": {},
     "output_type": "execute_result"
    }
   ],
   "source": [
    "bag_clf = BaggingClassifier(\n",
    "    DecisionTreeClassifier()  , n_estimators= 500,\n",
    "    bootstrap= True , n_jobs= -1 , oob_score= True\n",
    ")\n",
    "\n",
    "bag_clf.fit(X_train , y_train)"
   ]
  },
  {
   "cell_type": "code",
   "execution_count": 13,
   "id": "0c2920ed",
   "metadata": {},
   "outputs": [
    {
     "data": {
      "text/plain": [
       "0.97875"
      ]
     },
     "execution_count": 13,
     "metadata": {},
     "output_type": "execute_result"
    }
   ],
   "source": [
    "bag_clf.oob_score_"
   ]
  },
  {
   "cell_type": "code",
   "execution_count": 14,
   "id": "7fa36032",
   "metadata": {},
   "outputs": [
    {
     "data": {
      "text/plain": [
       "array([[0.98930481, 0.01069519],\n",
       "       [0.99435028, 0.00564972],\n",
       "       [0.06547619, 0.93452381],\n",
       "       ...,\n",
       "       [1.        , 0.        ],\n",
       "       [1.        , 0.        ],\n",
       "       [0.96571429, 0.03428571]])"
      ]
     },
     "execution_count": 14,
     "metadata": {},
     "output_type": "execute_result"
    }
   ],
   "source": [
    "bag_clf.oob_decision_function_"
   ]
  },
  {
   "cell_type": "markdown",
   "id": "bb77b5b2",
   "metadata": {},
   "source": [
    "# Radom Forest \n"
   ]
  },
  {
   "cell_type": "code",
   "execution_count": 15,
   "id": "0e8dbbf1",
   "metadata": {},
   "outputs": [],
   "source": [
    "from sklearn.ensemble import RandomForestClassifier"
   ]
  },
  {
   "cell_type": "code",
   "execution_count": 16,
   "id": "93bb50d0",
   "metadata": {},
   "outputs": [],
   "source": [
    "rnd_clf = RandomForestClassifier(n_estimators= 500 , max_leaf_nodes= 16 , n_jobs= -1)"
   ]
  },
  {
   "cell_type": "code",
   "execution_count": 17,
   "id": "a732da8c",
   "metadata": {},
   "outputs": [
    {
     "data": {
      "text/plain": [
       "RandomForestClassifier(max_leaf_nodes=16, n_estimators=500, n_jobs=-1)"
      ]
     },
     "execution_count": 17,
     "metadata": {},
     "output_type": "execute_result"
    }
   ],
   "source": [
    "rnd_clf.fit(X_train , y_train)"
   ]
  },
  {
   "cell_type": "markdown",
   "id": "a8babd52",
   "metadata": {},
   "source": [
    "# Calculating Importance"
   ]
  },
  {
   "cell_type": "code",
   "execution_count": 19,
   "id": "f6cc7023",
   "metadata": {},
   "outputs": [],
   "source": [
    "from sklearn.datasets import load_iris\n",
    "iris = load_iris()"
   ]
  },
  {
   "cell_type": "code",
   "execution_count": 20,
   "id": "c746fff6",
   "metadata": {},
   "outputs": [
    {
     "data": {
      "text/plain": [
       "RandomForestClassifier(n_estimators=500, n_jobs=-1)"
      ]
     },
     "execution_count": 20,
     "metadata": {},
     "output_type": "execute_result"
    }
   ],
   "source": [
    "rnd_clf  = RandomForestClassifier(n_estimators=500 , n_jobs= -1)\n",
    "rnd_clf.fit(iris['data'] , iris['target'])"
   ]
  },
  {
   "cell_type": "code",
   "execution_count": 22,
   "id": "50114204",
   "metadata": {},
   "outputs": [
    {
     "name": "stdout",
     "output_type": "stream",
     "text": [
      "sepal length (cm) 0.10342515760222575\n",
      "sepal width (cm) 0.02358219089721813\n",
      "petal length (cm) 0.4369692885207142\n",
      "petal width (cm) 0.43602336297984184\n"
     ]
    }
   ],
   "source": [
    "for name, score in zip(iris['feature_names'] , rnd_clf.feature_importances_):\n",
    "    print(name , score)"
   ]
  },
  {
   "cell_type": "markdown",
   "id": "48e2f3dd",
   "metadata": {},
   "source": [
    "# Adaboost"
   ]
  },
  {
   "cell_type": "code",
   "execution_count": 23,
   "id": "c363677d",
   "metadata": {},
   "outputs": [],
   "source": [
    "from sklearn.ensemble import AdaBoostClassifier"
   ]
  },
  {
   "cell_type": "code",
   "execution_count": 24,
   "id": "fff57f75",
   "metadata": {},
   "outputs": [
    {
     "data": {
      "text/plain": [
       "AdaBoostClassifier(base_estimator=DecisionTreeClassifier(max_depth=1),\n",
       "                   learning_rate=0.5, n_estimators=200)"
      ]
     },
     "execution_count": 24,
     "metadata": {},
     "output_type": "execute_result"
    }
   ],
   "source": [
    "ada_clf = AdaBoostClassifier(\n",
    "    DecisionTreeClassifier(max_depth= 1) , n_estimators=200,\n",
    "    algorithm='SAMME.R' , learning_rate= 0.5)\n",
    "ada_clf.fit(X_train , y_train)"
   ]
  },
  {
   "cell_type": "code",
   "execution_count": null,
   "id": "675de4ae",
   "metadata": {},
   "outputs": [],
   "source": []
  }
 ],
 "metadata": {
  "kernelspec": {
   "display_name": "Python 3 (ipykernel)",
   "language": "python",
   "name": "python3"
  },
  "language_info": {
   "codemirror_mode": {
    "name": "ipython",
    "version": 3
   },
   "file_extension": ".py",
   "mimetype": "text/x-python",
   "name": "python",
   "nbconvert_exporter": "python",
   "pygments_lexer": "ipython3",
   "version": "3.9.7"
  }
 },
 "nbformat": 4,
 "nbformat_minor": 5
}
